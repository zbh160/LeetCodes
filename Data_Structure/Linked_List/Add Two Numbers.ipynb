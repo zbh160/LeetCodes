{
 "cells": [
  {
   "cell_type": "code",
   "execution_count": 3,
   "id": "5555217f-5d64-4603-9a71-6688d10362f3",
   "metadata": {},
   "outputs": [],
   "source": [
    "# Logic \n",
    "\n",
    "# Reverse Two List \n",
    "# Sum from right to left\n",
    "# Create new_node using calculation of carry, modifier, use next to log previous created node to link created nodes\n",
    "\n",
    "# e.g. l1: 7 2 4 3; l2: 564, result should be 7 8 0 7\n"
   ]
  },
  {
   "cell_type": "code",
   "execution_count": 8,
   "id": "21bd3417-877b-41b5-b5b9-5b364094d976",
   "metadata": {},
   "outputs": [],
   "source": [
    "# Definition for singly-linked list.\n",
    "# class ListNode(object):\n",
    "#     def __init__(self, val=0, next=None):\n",
    "#         self.val = val\n",
    "#         self.next = next\n",
    "class Solution(object):\n",
    "    def addTwoNumbers(self, l1, l2):\n",
    "        \"\"\"\n",
    "        :type l1: ListNode\n",
    "        :type l2: ListNode\n",
    "        :rtype: ListNode\n",
    "        \"\"\"\n",
    "        # Reverse then sum up\n",
    "        def reverse(head):\n",
    "            previous = None            \n",
    "            cursor = head\n",
    "            while cursor:\n",
    "                temp = cursor.next\n",
    "                cursor.next = previous\n",
    "                previous = cursor\n",
    "                cursor = temp            \n",
    "            return previous\n",
    "                \n",
    "        l1 = reverse(l1)\n",
    "        l2 = reverse(l2)\n",
    "\n",
    "        nxt = None\n",
    "        carry = 0\n",
    "        while l1 or l2:\n",
    "            n1 = l1.data if l1 else 0\n",
    "            n2 = l2.data if l2 else 0\n",
    "\n",
    "            sum = n1+n2+carry\n",
    "            carry = sum//10\n",
    "            sum = sum%10\n",
    "\n",
    "            new_node = ListNode(sum)\n",
    "            new_node.next = nxt\n",
    "            nxt = new_node\n",
    "\n",
    "            l1 = l1.next if l1 else None\n",
    "            l2 = l2.next if l2 else None\n",
    "\n",
    "        \n",
    "        if carry:\n",
    "            new_node = ListNode(carry)\n",
    "            new_node.next = nxt\n",
    "        \n",
    "        return new_node\n",
    " \n",
    "            \n",
    "        "
   ]
  },
  {
   "cell_type": "code",
   "execution_count": 9,
   "id": "3f9177b6-591a-4006-aa4e-a59328e94256",
   "metadata": {},
   "outputs": [],
   "source": [
    "class ListNode:\n",
    "    def __init__(self, data):\n",
    "        self.data = data\n",
    "        self.next = None\n",
    "\n",
    "class LinkedList:\n",
    "    def __init__(self):\n",
    "        self.head = None\n",
    "\n",
    "# Create nodes\n",
    "list1_node1 = ListNode(7)\n",
    "list1_node2 = ListNode(2)\n",
    "list1_node3 = ListNode(4)\n",
    "list1_node4 = ListNode(3)\n",
    "\n",
    "list2_node1 = ListNode(5)\n",
    "list2_node2 = ListNode(6)\n",
    "list2_node3 = ListNode(4)\n",
    "\n",
    "\n",
    "# Link nodes\n",
    "list1_node1.next = list1_node2\n",
    "list1_node2.next = list1_node3\n",
    "list1_node3.next = list1_node4\n",
    "\n",
    "list2_node1.next = list2_node2\n",
    "list2_node2.next = list2_node3\n",
    "\n",
    "# Create a linked list\n",
    "linked_list1 = LinkedList()\n",
    "linked_list2 = LinkedList()\n",
    "linked_list1.head = list1_node1\n",
    "linked_list2.head = list2_node1"
   ]
  },
  {
   "cell_type": "code",
   "execution_count": 10,
   "id": "0bf1c03f-4e2c-4e13-aced-c225d5d9febd",
   "metadata": {},
   "outputs": [],
   "source": [
    "solution = Solution()"
   ]
  },
  {
   "cell_type": "code",
   "execution_count": 11,
   "id": "20817b1b-437f-41f9-8d9c-6b00a8997774",
   "metadata": {},
   "outputs": [],
   "source": [
    "# Draw Inference, reverse first M - N element\n",
    "# worked!\n",
    "result = solution.addTwoNumbers(list1_node1, list2_node1)\n",
    "# worked!\n",
    "# result = solution.reverseN(node1,3)\n",
    "# worked!\n",
    "# result =  solution.reverseBetween(node1,3, 5)\n"
   ]
  },
  {
   "cell_type": "code",
   "execution_count": 12,
   "id": "db9813c8-4fea-41c8-9db4-9d866a80c04f",
   "metadata": {},
   "outputs": [
    {
     "name": "stdout",
     "output_type": "stream",
     "text": [
      "7\n",
      "8\n",
      "0\n",
      "7\n"
     ]
    }
   ],
   "source": [
    "# Display result\n",
    "while result.data != None:\n",
    "    print(result.data)\n",
    "    if result.next !=None:\n",
    "        result = result.next\n",
    "    else:\n",
    "        break\n"
   ]
  },
  {
   "cell_type": "code",
   "execution_count": null,
   "id": "e623f7a7-3c7c-41b4-ae3e-7863a6108dc5",
   "metadata": {},
   "outputs": [],
   "source": []
  }
 ],
 "metadata": {
  "kernelspec": {
   "display_name": "Python 3 (ipykernel)",
   "language": "python",
   "name": "python3"
  },
  "language_info": {
   "codemirror_mode": {
    "name": "ipython",
    "version": 3
   },
   "file_extension": ".py",
   "mimetype": "text/x-python",
   "name": "python",
   "nbconvert_exporter": "python",
   "pygments_lexer": "ipython3",
   "version": "3.10.5"
  }
 },
 "nbformat": 4,
 "nbformat_minor": 5
}
