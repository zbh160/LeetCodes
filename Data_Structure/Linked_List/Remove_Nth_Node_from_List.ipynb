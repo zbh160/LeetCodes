{
 "cells": [
  {
   "cell_type": "code",
   "execution_count": 17,
   "id": "9f439803-51b2-4ebb-97e1-93f992e976a2",
   "metadata": {},
   "outputs": [],
   "source": [
    " # Reference https://leetcode.com/problems/remove-nth-node-from-end-of-list/description/\n",
    " # Given the head of a linked list, remove the nth node from the end of the list and return its head.\n",
    "\n",
    "    \n",
    "    # Recursion the list to get len, then recurse again to remove nth \n",
    "   # 一种容易想到的方法是，我们首先从头节点开始对链表进行一次遍历，得到链表的长度 \n",
    "   # 在对链表进行操作时，一种常用的技巧是添加一个哑节点（dummy node），它的 next 指针指向链表的头节点。这样一来，我们就不需要对头节点进行特殊的判断了。\n",
    "\n",
    "    \n",
    "   # Method 2 Stack\n",
    "   # Two Pointer"
   ]
  },
  {
   "cell_type": "code",
   "execution_count": 1,
   "id": "f4a8f80a-e4a8-49f2-9f4b-0896949bdfe1",
   "metadata": {},
   "outputs": [],
   "source": [
    "# Definition for singly-linked list.\n",
    "# class ListNode(object):\n",
    "#     def __init__(self, val=0, next=None):\n",
    "#         self.val = val\n",
    "#         self.next = next\n",
    "class Solution(object):\n",
    "    def getLength(self,head):\n",
    "            length = 0\n",
    "            while head:\n",
    "                length += 1\n",
    "                head = head.next\n",
    "            return length\n",
    "    def removeNthFromEnd(self, head, n):\n",
    "        \n",
    "        \"\"\"\n",
    "        :type head: ListNode\n",
    "        :type n: int\n",
    "        :rtype: ListNode\n",
    "        \"\"\"\n",
    "        dummy = ListNode(0)\n",
    "        dummy.next = head\n",
    "        length = self.getLength(dummy)\n",
    "\n",
    "        cursor = dummy\n",
    "        for i in range(1, length - n):\n",
    "            cursor = cursor.next\n",
    "        if cursor is not None and cursor.next is not None:\n",
    "            cursor.next = cursor.next.next\n",
    "        return dummy.next\n",
    "    def removeNthFromEndusing_two_pointer(self, head, n):\n",
    "        \n",
    "        \"\"\"\n",
    "        :type head: ListNode\n",
    "        :type n: int\n",
    "        :rtype: ListNode\n",
    "        \"\"\"\n",
    "        # set up 2 pointers, fast and slow, fast is n steps of slow, when fast reach the end, slow is at the place where should point to slow.next.next\n",
    "        dummy = ListNode(0)\n",
    "        dummy.next = head\n",
    "        fast = head\n",
    "        slow = head\n",
    "        while n-1 >= 0:\n",
    "            if fast.next is not None:\n",
    "                fast = fast.next\n",
    "            n -=1\n",
    "        while fast.next is not None:\n",
    "            fast = fast.next\n",
    "            slow = slow.next\n",
    "\n",
    "        if slow.next is not None:\n",
    "            slow.next = slow.next.next\n",
    "        elif slow.next == fast.next:\n",
    "            return None\n",
    "        return dummy.next\n",
    "    \n",
    "    '''\n",
    "\n",
    "        fast = head\n",
    "        while n -1 >= 0:\n",
    "            fast = fast.next\n",
    "            n = n -1\n",
    "        slow = head \n",
    "        while fast.next is not None and fast is not None:\n",
    "            fast = fast.next\n",
    "            slow = slow.next\n",
    "\n",
    "        print(fast.val, slow.val)\n",
    "        #slow.next = slow.next.next\n",
    "        return head\n",
    "    '''\n",
    "\n",
    "\n",
    "        "
   ]
  },
  {
   "cell_type": "code",
   "execution_count": 2,
   "id": "4fb07b2b-5389-4520-a1ba-6b1644b9e9f4",
   "metadata": {},
   "outputs": [],
   "source": [
    "class ListNode:\n",
    "    def __init__(self, data):\n",
    "        self.data = data\n",
    "        self.next = None\n",
    "\n",
    "class LinkedList:\n",
    "    def __init__(self):\n",
    "        self.head = None\n",
    "\n",
    "# Create nodes\n",
    "node1 = ListNode(1)\n",
    "node2 = ListNode(2)\n",
    "node3 = ListNode(3)\n",
    "node4 = ListNode(4)\n",
    "node5 = ListNode(5)\n",
    "node6 = ListNode(6)\n",
    "\n",
    "# Link nodes\n",
    "node1.next = node2\n",
    "node2.next = node3\n",
    "node3.next = node4\n",
    "node4.next = node5\n",
    "node5.next = node6\n",
    "\n",
    "# Create a linked list\n",
    "linked_list = LinkedList()\n",
    "linked_list.head = node1"
   ]
  },
  {
   "cell_type": "code",
   "execution_count": 3,
   "id": "f40a849d-3fda-45e5-bbb9-155459371f43",
   "metadata": {},
   "outputs": [],
   "source": [
    "solution = Solution()"
   ]
  },
  {
   "cell_type": "code",
   "execution_count": 4,
   "id": "c1759b72-8f72-4ff0-9cfb-7f73df76ebdf",
   "metadata": {},
   "outputs": [],
   "source": [
    "# Draw Inference, reverse first M - N element\n",
    "# easy method worked!\n",
    "# result =  solution.removeNthFromEnd(node1,2)\n",
    "\n",
    "# worked!\n",
    "result =  solution.removeNthFromEnd(node1,2)\n",
    "# method 3 worked!\n",
    "# result =  solution.removeNthFromEndusing_two_pointer(node1,2)\n",
    "# result =  solution.after_recursion_explore(node1)"
   ]
  },
  {
   "cell_type": "code",
   "execution_count": 5,
   "id": "1ea1f413-d0ca-48a1-b970-53c41dadab71",
   "metadata": {},
   "outputs": [
    {
     "name": "stdout",
     "output_type": "stream",
     "text": [
      "1\n",
      "2\n",
      "3\n",
      "4\n",
      "6\n"
     ]
    }
   ],
   "source": [
    "# Display result\n",
    "while result.data != None:\n",
    "    print(result.data)\n",
    "    if result.next !=None:\n",
    "        result = result.next\n",
    "    else:\n",
    "        break\n"
   ]
  },
  {
   "cell_type": "code",
   "execution_count": null,
   "id": "b912fb26-6336-45a4-9c97-27b43b800860",
   "metadata": {},
   "outputs": [],
   "source": []
  }
 ],
 "metadata": {
  "kernelspec": {
   "display_name": "Python 3 (ipykernel)",
   "language": "python",
   "name": "python3"
  },
  "language_info": {
   "codemirror_mode": {
    "name": "ipython",
    "version": 3
   },
   "file_extension": ".py",
   "mimetype": "text/x-python",
   "name": "python",
   "nbconvert_exporter": "python",
   "pygments_lexer": "ipython3",
   "version": "3.10.5"
  }
 },
 "nbformat": 4,
 "nbformat_minor": 5
}
