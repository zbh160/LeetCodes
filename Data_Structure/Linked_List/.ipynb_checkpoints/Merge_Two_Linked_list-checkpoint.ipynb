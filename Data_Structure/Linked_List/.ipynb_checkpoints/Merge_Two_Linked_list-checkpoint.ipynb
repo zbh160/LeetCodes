{
 "cells": [
  {
   "cell_type": "code",
   "execution_count": 59,
   "id": "34d5daa7-c284-4a34-a934-49515c6c0eb9",
   "metadata": {},
   "outputs": [],
   "source": [
    "# Logic \n",
    "\n",
    "# If one of the list gets end, return the other \n",
    "# Start with the first node of 2 lists\n",
    "# Compare value of nodes\n",
    "# If condition mathces, go with the list selected and select next node\n",
    "# e.g. l1: 1 1 2 2 3 4 ; l2: 1 3 4, order should be l1 1 -> l1 1 -> l2 1 -> l1 2 -> l1 2 -> l1 3 -> l2 3 -> l1 4 -> l2 4"
   ]
  },
  {
   "cell_type": "code",
   "execution_count": 60,
   "id": "44845e6b-521d-4974-a5b8-b71150f0b50e",
   "metadata": {},
   "outputs": [],
   "source": [
    "# Definition for singly-linked list.\n",
    "# class ListNode(object):\n",
    "#     def __init__(self, val=0, next=None):\n",
    "#         self.val = val\n",
    "#         self.next = next\n",
    "class Solution(object):\n",
    "    def mergeTwoLists(self, list1, list2):\n",
    "        \"\"\"\n",
    "        :type list1: Optional[ListNode]\n",
    "        :type list2: Optional[ListNode]\n",
    "        :rtype: Optional[ListNode]\n",
    "        \"\"\"\n",
    "        if list1 == None:\n",
    "            print(\"node added %s, %i\"%(list2.tag, list2.data))\n",
    "            return list2\n",
    "        if list2 == None:\n",
    "            print(\"node added %s, %i\"%(list1.tag, list1.data))\n",
    "            return list1\n",
    "        if list1.data <= list2.data:\n",
    "            print(\"node added %s, %i\"%(list1.tag, list1.data))\n",
    "            list1.next = self.mergeTwoLists(list1.next, list2)\n",
    "            return list1\n",
    "        else:\n",
    "            print(\"node added %s, %i\"%(list2.tag, list2.data))\n",
    "            list2.next = self.mergeTwoLists(list2.next, list1)\n",
    "            return list2\n",
    "        "
   ]
  },
  {
   "cell_type": "code",
   "execution_count": 61,
   "id": "08cad937-1037-432d-a847-eed11e04564b",
   "metadata": {},
   "outputs": [],
   "source": [
    "class ListNode:\n",
    "    def __init__(self, data, tag):\n",
    "        self.data = data\n",
    "        self.next = None\n",
    "        self.tag = tag\n",
    "\n",
    "class LinkedList:\n",
    "    def __init__(self):\n",
    "        self.head = None\n",
    "\n",
    "# Create nodes\n",
    "list1_node1 = ListNode(1, \"l1\")\n",
    "list1_node2 = ListNode(1, \"l1\")\n",
    "list1_node3 = ListNode(2, \"l1\")\n",
    "list1_node4 = ListNode(2, \"l1\")\n",
    "list1_node5 = ListNode(3, \"l1\")\n",
    "list1_node6 = ListNode(4, \"l1\")\n",
    "\n",
    "list2_node1 = ListNode(1, \"l2\")\n",
    "list2_node2 = ListNode(3, \"l2\")\n",
    "list2_node3 = ListNode(4, \"l2\")\n",
    "\n",
    "\n",
    "# Link nodes\n",
    "list1_node1.next = list1_node2\n",
    "list1_node2.next = list1_node3\n",
    "list1_node3.next = list1_node4\n",
    "list1_node4.next = list1_node5\n",
    "list1_node5.next = list1_node6\n",
    "\n",
    "list2_node1.next = list2_node2\n",
    "list2_node2.next = list2_node3\n",
    "\n",
    "# Create a linked list\n",
    "linked_list1 = LinkedList()\n",
    "linked_list2 = LinkedList()\n",
    "linked_list1.head = list1_node1\n",
    "linked_list2.head = list2_node1"
   ]
  },
  {
   "cell_type": "code",
   "execution_count": 62,
   "id": "0a234d5d-9d8e-4054-a8b4-28aa7b5c858c",
   "metadata": {},
   "outputs": [],
   "source": [
    "solution = Solution()"
   ]
  },
  {
   "cell_type": "code",
   "execution_count": 63,
   "id": "84480011-8380-41b2-adc6-4a0bd076df8e",
   "metadata": {},
   "outputs": [
    {
     "name": "stdout",
     "output_type": "stream",
     "text": [
      "node added l1, 1\n",
      "node added l1, 1\n",
      "node added l2, 1\n",
      "node added l1, 2\n",
      "node added l1, 2\n",
      "node added l1, 3\n",
      "node added l2, 3\n",
      "node added l2, 4\n",
      "node added l1, 4\n"
     ]
    }
   ],
   "source": [
    "# Draw Inference, reverse first M - N element\n",
    "# worked!\n",
    "result = solution.mergeTwoLists(list1_node1, list2_node1)\n",
    "# worked!\n",
    "# result = solution.reverseN(node1,3)\n",
    "# worked!\n",
    "# result =  solution.reverseBetween(node1,3, 5)\n"
   ]
  },
  {
   "cell_type": "code",
   "execution_count": 33,
   "id": "173e8113-d499-46ed-a45c-ce3ca2a8fc6e",
   "metadata": {},
   "outputs": [
    {
     "name": "stdout",
     "output_type": "stream",
     "text": [
      "1\n",
      "1\n",
      "1\n",
      "2\n",
      "2\n",
      "3\n",
      "3\n",
      "4\n",
      "4\n"
     ]
    }
   ],
   "source": [
    "# Display result\n",
    "while result.data != None:\n",
    "    print(result.data)\n",
    "    if result.next !=None:\n",
    "        result = result.next\n",
    "    else:\n",
    "        break\n"
   ]
  },
  {
   "cell_type": "code",
   "execution_count": null,
   "id": "4e37270c-b0a6-4302-b5d4-ddd2f7bf00b3",
   "metadata": {},
   "outputs": [],
   "source": []
  }
 ],
 "metadata": {
  "kernelspec": {
   "display_name": "Python 3 (ipykernel)",
   "language": "python",
   "name": "python3"
  },
  "language_info": {
   "codemirror_mode": {
    "name": "ipython",
    "version": 3
   },
   "file_extension": ".py",
   "mimetype": "text/x-python",
   "name": "python",
   "nbconvert_exporter": "python",
   "pygments_lexer": "ipython3",
   "version": "3.10.5"
  }
 },
 "nbformat": 4,
 "nbformat_minor": 5
}
