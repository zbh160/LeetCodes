{
 "cells": [
  {
   "cell_type": "code",
   "execution_count": 3,
   "id": "5555217f-5d64-4603-9a71-6688d10362f3",
   "metadata": {},
   "outputs": [],
   "source": [
    "# LeetCode https://leetcode.com/problems/remove-duplicates-from-sorted-list/description/ \n",
    "\n",
    "# Reverse Two List \n",
    "'''\n",
    "Initialize a current pointer to the head of the linked list.\n",
    "Iterate through the linked list until the current pointer reaches the end.\n",
    "Inside the loop, check if the current node's value is equal to the value of the next node:\n",
    "If they are equal, remove the next node by updating the current node's next pointer.\n",
    "If they are not equal, move the current pointer to the next node.\n",
    "Return the head of the modified linked list.\n",
    "\n",
    "It's sorted so it's easy to handle \n",
    "\n",
    "If it's not sorted, we have to use hash set\n",
    "\n",
    "Initialize an empty hash set to keep track of unique values.\n",
    "Initialize two pointers: prev and curr. Start prev at None and curr at the head of the linked list.\n",
    "Traverse the linked list:\n",
    "If the value of the current node (curr.val) is not in the hash set, add it to the hash set, move both prev and curr pointers to the next node.\n",
    "If the value is already in the hash set, indicating a duplicate, remove the current node by updating the prev.next pointer to skip over curr.\n",
    "Continue until curr reaches the end of the linked list.\n",
    "Return the head of the modified linked list.\n",
    "'''\n"
   ]
  },
  {
   "cell_type": "code",
   "execution_count": 8,
   "id": "21bd3417-877b-41b5-b5b9-5b364094d976",
   "metadata": {},
   "outputs": [],
   "source": [
    "# O(n) time complexity\n",
    "# Definition for singly-linked list.\n",
    "# class ListNode(object):\n",
    "#     def __init__(self, val=0, next=None):\n",
    "#         self.val = val\n",
    "#         self.next = next\n",
    "class Solution(object):\n",
    "    def deleteDuplicates(self, head):\n",
    "        \"\"\"\n",
    "        :type head: ListNode\n",
    "        :rtype: ListNode\n",
    "        \"\"\"\n",
    "        # Base Case\n",
    "        if not head:\n",
    "            return head\n",
    "        curr = head\n",
    "        while curr.next:\n",
    "            if curr.next.val == curr.val:\n",
    "                curr.next = curr.next.next\n",
    "            else:\n",
    "                curr = curr.next        \n",
    "        return head"
   ]
  },
  {
   "cell_type": "code",
   "execution_count": null,
   "id": "2aa212bb-affb-47dc-8b2e-f4226153bde8",
   "metadata": {},
   "outputs": [],
   "source": [
    "# O(n) time complexity\n",
    "# Definition for singly-linked list.\n",
    "# class ListNode(object):\n",
    "#     def __init__(self, val=0, next=None):\n",
    "#         self.val = val\n",
    "#         self.next = next\n",
    "\n",
    "\n",
    "def deleteDuplicates(head):\n",
    "    if not head:\n",
    "        return head\n",
    "    \n",
    "    # Create a hash set to store unique values\n",
    "    unique_values = set()\n",
    "    prev = None\n",
    "    curr = head\n",
    "    \n",
    "    while curr:\n",
    "        if curr.val not in unique_values:\n",
    "            unique_values.add(curr.val)\n",
    "            prev = curr\n",
    "        else:\n",
    "            # Skip over the current node to remove it\n",
    "            prev.next = curr.next\n",
    "        \n",
    "        # Move to the next node\n",
    "        curr = curr.next\n",
    "    \n",
    "    return head"
   ]
  },
  {
   "cell_type": "code",
   "execution_count": 9,
   "id": "3f9177b6-591a-4006-aa4e-a59328e94256",
   "metadata": {},
   "outputs": [],
   "source": [
    "class ListNode:\n",
    "    def __init__(self, data):\n",
    "        self.data = data\n",
    "        self.next = None\n",
    "\n",
    "class LinkedList:\n",
    "    def __init__(self):\n",
    "        self.head = None\n",
    "\n",
    "# Create nodes\n",
    "list1_node1 = ListNode(7)\n",
    "list1_node2 = ListNode(2)\n",
    "list1_node3 = ListNode(4)\n",
    "list1_node4 = ListNode(3)\n",
    "\n",
    "list2_node1 = ListNode(5)\n",
    "list2_node2 = ListNode(6)\n",
    "list2_node3 = ListNode(4)\n",
    "\n",
    "\n",
    "# Link nodes\n",
    "list1_node1.next = list1_node2\n",
    "list1_node2.next = list1_node3\n",
    "list1_node3.next = list1_node4\n",
    "\n",
    "list2_node1.next = list2_node2\n",
    "list2_node2.next = list2_node3\n",
    "\n",
    "# Create a linked list\n",
    "linked_list1 = LinkedList()\n",
    "linked_list2 = LinkedList()\n",
    "linked_list1.head = list1_node1\n",
    "linked_list2.head = list2_node1"
   ]
  },
  {
   "cell_type": "code",
   "execution_count": 10,
   "id": "0bf1c03f-4e2c-4e13-aced-c225d5d9febd",
   "metadata": {},
   "outputs": [],
   "source": [
    "solution = Solution()"
   ]
  },
  {
   "cell_type": "code",
   "execution_count": 11,
   "id": "20817b1b-437f-41f9-8d9c-6b00a8997774",
   "metadata": {},
   "outputs": [],
   "source": [
    "# Draw Inference, reverse first M - N element\n",
    "# worked!\n",
    "result = solution.addTwoNumbers(list1_node1, list2_node1)\n",
    "# worked!\n",
    "# result = solution.reverseN(node1,3)\n",
    "# worked!\n",
    "# result =  solution.reverseBetween(node1,3, 5)\n"
   ]
  },
  {
   "cell_type": "code",
   "execution_count": 12,
   "id": "db9813c8-4fea-41c8-9db4-9d866a80c04f",
   "metadata": {},
   "outputs": [
    {
     "name": "stdout",
     "output_type": "stream",
     "text": [
      "7\n",
      "8\n",
      "0\n",
      "7\n"
     ]
    }
   ],
   "source": [
    "# Display result\n",
    "while result.data != None:\n",
    "    print(result.data)\n",
    "    if result.next !=None:\n",
    "        result = result.next\n",
    "    else:\n",
    "        break\n"
   ]
  },
  {
   "cell_type": "code",
   "execution_count": null,
   "id": "e623f7a7-3c7c-41b4-ae3e-7863a6108dc5",
   "metadata": {},
   "outputs": [],
   "source": []
  }
 ],
 "metadata": {
  "kernelspec": {
   "display_name": "Python 3 (ipykernel)",
   "language": "python",
   "name": "python3"
  },
  "language_info": {
   "codemirror_mode": {
    "name": "ipython",
    "version": 3
   },
   "file_extension": ".py",
   "mimetype": "text/x-python",
   "name": "python",
   "nbconvert_exporter": "python",
   "pygments_lexer": "ipython3",
   "version": "3.12.2"
  }
 },
 "nbformat": 4,
 "nbformat_minor": 5
}
