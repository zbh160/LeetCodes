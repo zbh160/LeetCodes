{
 "cells": [
  {
   "cell_type": "code",
   "execution_count": null,
   "id": "5555217f-5d64-4603-9a71-6688d10362f3",
   "metadata": {},
   "outputs": [],
   "source": [
    "'''\n",
    "Reverse Two List \n",
    "Sum from right to left\n",
    "Create new_node using calculation of carry, modifier, use next to log previous created node to link created nodes\n",
    "\n",
    "'''"
   ]
  }
 ],
 "metadata": {
  "kernelspec": {
   "display_name": "Python 3 (ipykernel)",
   "language": "python",
   "name": "python3"
  },
  "language_info": {
   "codemirror_mode": {
    "name": "ipython",
    "version": 3
   },
   "file_extension": ".py",
   "mimetype": "text/x-python",
   "name": "python",
   "nbconvert_exporter": "python",
   "pygments_lexer": "ipython3",
   "version": "3.10.5"
  }
 },
 "nbformat": 4,
 "nbformat_minor": 5
}
