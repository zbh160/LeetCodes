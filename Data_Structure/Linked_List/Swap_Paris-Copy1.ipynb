{
 "cells": [
  {
   "cell_type": "code",
   "execution_count": 10,
   "id": "b6f0b7ee-b93b-4686-a4f5-b568357bd3e2",
   "metadata": {},
   "outputs": [],
   "source": [
    "# Reference https://leetcode.com/problems/swap-nodes-in-pairs/description/\n",
    "# Logic \n",
    "# Easy Method: head traverse, get last node of head, change node, point last to front, rear to cursor\n",
    "# use head = cursor to iterate list, if cursor is None, then exit loop\n",
    "# prev, cursor, dummy.next to store start point, previous node and next node"
   ]
  },
  {
   "cell_type": "code",
   "execution_count": 1,
   "id": "24bd3dd5-aa30-4d5a-9212-634b3ab7cf6a",
   "metadata": {},
   "outputs": [],
   "source": [
    "\n",
    "class Solution(object):\n",
    "    def swapPairs(self, head):\n",
    "        \"\"\"\n",
    "        :type head: ListNode\n",
    "        :rtype: ListNode\n",
    "        \"\"\"\n",
    "        # consider even, odd nodes,\n",
    "        # for odd num node, point last to it\n",
    "        # for even node, swap nodes and assign pointer \n",
    "        # variable even = true / false\n",
    "        #  condition: even == false, \n",
    "        #  action: set even = true, head.next.next = head, head.next= head.next.next.next\n",
    "        dummy = ListNode(0)\n",
    "        dummy.next = head\n",
    "        even = False\n",
    "        set = False\n",
    "        # Cursor mark the pointer, prev mark the previous node\n",
    "        cursor = None\n",
    "        prev = None\n",
    "        while head is not None:\n",
    "            print(head.data)\n",
    "            if prev is not None:\n",
    "                print(prev.data) \n",
    "            # if not even:\n",
    "            if head.next is not None:\n",
    "                cursor = head.next.next\n",
    "                \n",
    "                head.next.next = head\n",
    "                if prev is not None:\n",
    "                    prev.next = head.next \n",
    "                if not set:\n",
    "                    dummy.next = head.next\n",
    "                    set = True\n",
    "                prev = head\n",
    "                head.next = cursor if cursor is not None else None\n",
    "                head = cursor\n",
    "\n",
    "            else:\n",
    "                return dummy.next\n",
    "\n",
    "        return dummy.next"
   ]
  },
  {
   "cell_type": "code",
   "execution_count": 2,
   "id": "f5a6d7a6-0d89-451a-a430-718fccdc6a35",
   "metadata": {},
   "outputs": [],
   "source": [
    "class ListNode:\n",
    "    def __init__(self, data):\n",
    "        self.data = data\n",
    "        self.next = None\n",
    "\n",
    "class LinkedList:\n",
    "    def __init__(self):\n",
    "        self.head = None\n",
    "\n",
    "# Create nodes\n",
    "node1 = ListNode(1)\n",
    "node2 = ListNode(2)\n",
    "node3 = ListNode(3)\n",
    "node4 = ListNode(4)\n",
    "node5 = ListNode(5)\n",
    "node6 = ListNode(6)\n",
    "node7 = ListNode(7)\n",
    "\n",
    "# Link nodes\n",
    "node1.next = node2\n",
    "node2.next = node3\n",
    "node3.next = node4\n",
    "node4.next = node5\n",
    "node5.next = node6\n",
    "node6.next = node7\n",
    "\n",
    "# Create a linked list\n",
    "linked_list = LinkedList()\n",
    "linked_list.head = node1"
   ]
  },
  {
   "cell_type": "code",
   "execution_count": 3,
   "id": "a7ffdcc4-3783-4267-a3a1-e7618ee37239",
   "metadata": {},
   "outputs": [],
   "source": [
    "solution = Solution()"
   ]
  },
  {
   "cell_type": "code",
   "execution_count": 4,
   "id": "dbfc4475-3a38-44a6-aad9-c32de6dec4a8",
   "metadata": {},
   "outputs": [
    {
     "name": "stdout",
     "output_type": "stream",
     "text": [
      "1\n",
      "3\n",
      "1\n",
      "5\n",
      "3\n",
      "7\n",
      "5\n"
     ]
    }
   ],
   "source": [
    "# Draw Inference, reverse first M - N element\n",
    "# easy method worked!\n",
    "# result =  solution.removeNthFromEnd(node1,2)\n",
    "\n",
    "# worked!\n",
    "# result =  solution.removeNthFromEnd(node1,2)\n",
    "# method 3 worked!\n",
    "result =  solution.swapPairs(node1)\n",
    "# result =  solution.after_recursion_explore(node1)"
   ]
  },
  {
   "cell_type": "code",
   "execution_count": 5,
   "id": "9f3676f3-50a2-485e-9595-c93811341a83",
   "metadata": {},
   "outputs": [
    {
     "name": "stdout",
     "output_type": "stream",
     "text": [
      "2\n",
      "1\n",
      "4\n",
      "3\n",
      "6\n",
      "5\n",
      "7\n"
     ]
    }
   ],
   "source": [
    "# Display result\n",
    "while result.data != None:\n",
    "    print(result.data)\n",
    "    if result.next !=None:\n",
    "        result = result.next\n",
    "    else:\n",
    "        break\n"
   ]
  },
  {
   "cell_type": "code",
   "execution_count": null,
   "id": "65f55633-6802-449b-b19f-46e4a2e215ea",
   "metadata": {},
   "outputs": [],
   "source": []
  }
 ],
 "metadata": {
  "kernelspec": {
   "display_name": "Python 3 (ipykernel)",
   "language": "python",
   "name": "python3"
  },
  "language_info": {
   "codemirror_mode": {
    "name": "ipython",
    "version": 3
   },
   "file_extension": ".py",
   "mimetype": "text/x-python",
   "name": "python",
   "nbconvert_exporter": "python",
   "pygments_lexer": "ipython3",
   "version": "3.10.5"
  }
 },
 "nbformat": 4,
 "nbformat_minor": 5
}
