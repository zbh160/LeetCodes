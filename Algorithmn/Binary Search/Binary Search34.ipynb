{
 "cells": [
  {
   "cell_type": "code",
   "execution_count": 19,
   "id": "c72fd111-508e-41cb-b131-27785fe3c0d8",
   "metadata": {},
   "outputs": [],
   "source": [
    "# LeetCode https://leetcode.com/problems/find-first-and-last-position-of-element-in-sorted-array/description/\n",
    "# Left Bias, last found first using Binary Search,keep searching left, to find the start point\n",
    "# Right Bias, First found first using Binary Search, keep searching right to find the last point"
   ]
  },
  {
   "cell_type": "code",
   "execution_count": 20,
   "id": "7314e57a-8802-4689-aab0-d92cb7ad3f0e",
   "metadata": {},
   "outputs": [],
   "source": [
    "# T O(2 * log n), M O(n)\n",
    "class Solution(object):\n",
    "    def searchRange(self, nums, target):\n",
    "        \"\"\"\n",
    "        :type nums: List[int]\n",
    "        :type target: int\n",
    "        :rtype: List[int]\n",
    "        \"\"\"\n",
    "        # Start point left most \n",
    "        left = self.binarysearch(nums, target, True)\n",
    "        # Last point right most\n",
    "        right = self.binarysearch(nums, target, False)\n",
    "        return [left, right]\n",
    "\n",
    "    # leftBias = True/False), if False, res is rightBiased\n",
    "    def binarysearch(self, nums, target, leftBias):\n",
    "        l, r = 0, len(nums) - 1 \n",
    "        i = -1\n",
    "        while l <= r:          \n",
    "            m = (l + r) // 2           \n",
    "            if target > nums[m]:\n",
    "                l = m + 1\n",
    "            elif target < nums[m]:\n",
    "                r = m - 1\n",
    "            # Do Bias search when first pos found\n",
    "            else:\n",
    "                i = m\n",
    "                if leftBias:\n",
    "                    r = m - 1\n",
    "                else:\n",
    "                    l = m + 1\n",
    "            # print(f\"Bias:{leftBias} , l: {l}, r: {r}, i: {i}\")\n",
    "        return i\n",
    "\n"
   ]
  },
  {
   "cell_type": "code",
   "execution_count": 21,
   "id": "24c0d69b-7480-4cdf-8c25-fd1a3a988f43",
   "metadata": {},
   "outputs": [],
   "source": [
    "solution = Solution()"
   ]
  },
  {
   "cell_type": "code",
   "execution_count": 22,
   "id": "ba740bb6-6049-4198-8689-96cd3081cef7",
   "metadata": {},
   "outputs": [
    {
     "name": "stdout",
     "output_type": "stream",
     "text": [
      "Bias:True , l: 3, r: 5, i: -1\n",
      "Bias:True , l: 3, r: 3, i: 4\n",
      "Bias:True , l: 3, r: 2, i: 3\n",
      "Bias:False , l: 3, r: 5, i: -1\n",
      "Bias:False , l: 5, r: 5, i: 4\n",
      "Bias:False , l: 5, r: 4, i: 4\n"
     ]
    }
   ],
   "source": [
    "# Draw Inference, reverse first M - N element\n",
    "# worked!\n",
    "result = solution.searchRange([5,7,7,8,8,10],8)\n",
    "# worked!"
   ]
  },
  {
   "cell_type": "code",
   "execution_count": 6,
   "id": "26276921-189a-4cc5-9470-d65927ccd488",
   "metadata": {},
   "outputs": [
    {
     "name": "stdout",
     "output_type": "stream",
     "text": [
      "[3, 4]\n"
     ]
    }
   ],
   "source": [
    "# Display result\n",
    "print(result)\n"
   ]
  },
  {
   "cell_type": "code",
   "execution_count": 171,
   "id": "84742476-3266-486c-9a57-8d87cd3de927",
   "metadata": {},
   "outputs": [],
   "source": []
  },
  {
   "cell_type": "code",
   "execution_count": null,
   "id": "80fd8d55-6413-4c05-afb2-c92d8f76f7dc",
   "metadata": {},
   "outputs": [],
   "source": []
  }
 ],
 "metadata": {
  "kernelspec": {
   "display_name": "Python 3 (ipykernel)",
   "language": "python",
   "name": "python3"
  },
  "language_info": {
   "codemirror_mode": {
    "name": "ipython",
    "version": 3
   },
   "file_extension": ".py",
   "mimetype": "text/x-python",
   "name": "python",
   "nbconvert_exporter": "python",
   "pygments_lexer": "ipython3",
   "version": "3.12.2"
  }
 },
 "nbformat": 4,
 "nbformat_minor": 5
}
