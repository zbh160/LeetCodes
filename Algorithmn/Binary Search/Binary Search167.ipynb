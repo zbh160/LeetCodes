{
 "cells": [
  {
   "cell_type": "code",
   "execution_count": 19,
   "id": "c72fd111-508e-41cb-b131-27785fe3c0d8",
   "metadata": {},
   "outputs": [],
   "source": [
    "# LeetCode https://leetcode.com/problems/two-sum-ii-input-array-is-sorted/\n",
    "# Normal solutiom, iterate over the list from left and right, to find the l + r == target. T O(n)\n",
    "# Binary Search problem for this will be iterate of for i in range nums: complement(real target) = target - left(i) which is a sub binary search task\n",
    "# Binary Search is not ideal for this problem but give you another idea how to convert problem into binary search\n"
   ]
  },
  {
   "cell_type": "code",
   "execution_count": 20,
   "id": "7314e57a-8802-4689-aab0-d92cb7ad3f0e",
   "metadata": {},
   "outputs": [],
   "source": [
    "# Normal solution using two pointers\n",
    "# T O(n), M O(1)\n",
    "class Solution(object):\n",
    "    def twoSum(self, numbers, target):\n",
    "        \"\"\"\n",
    "        :type numbers: List[int]\n",
    "        :type target: int\n",
    "        :rtype: List[int]\n",
    "        \"\"\"\n",
    "        # [2,7,11,15], target = 9\n",
    "        # use binary search, \n",
    "        # use l + r = sum and if sum == target, return l and r\n",
    "        # else if sum < target, l += 1\n",
    "        # else if sum > target, r -= 1\n",
    "        # return -1 and -1 if not found\n",
    "        l, r = 0, len(numbers) -1\n",
    "        while l < r:\n",
    "            sum = numbers[l] + numbers[r]\n",
    "            m = \n",
    "            if sum == target:\n",
    "                return [l+1, r+1]\n",
    "            elif sum < target:\n",
    "                l += 1\n",
    "            elif sum > target:\n",
    "                r -= 1\n",
    "        return [-1, -1]"
   ]
  },
  {
   "cell_type": "code",
   "execution_count": null,
   "id": "2c4ab307-f7d9-4e5e-ab6a-523ecc4d12d4",
   "metadata": {},
   "outputs": [],
   "source": [
    "# T O(n * log n), M O(1)\n",
    "def twoSum(numbers, target):\n",
    "    for i in range(len(numbers)):\n",
    "        left, right = i + 1, len(numbers) - 1\n",
    "        complement = target - numbers[i]\n",
    "        \n",
    "        while left <= right:\n",
    "            mid = left + (right - left) // 2\n",
    "            \n",
    "            if numbers[mid] == complement:\n",
    "                return [i + 1, mid + 1]  # Adding 1 to adjust to 1-based indexing\n",
    "            elif numbers[mid] < complement:\n",
    "                left = mid + 1\n",
    "            else:\n",
    "                right = mid - 1\n",
    "    \n",
    "    return [-1, -1]  # If no solution is found\n",
    "\n",
    "# Example usage:\n",
    "numbers = [2, 7, 11, 15]\n",
    "target = 9\n",
    "print(twoSum(numbers, target))  # Output: [1, 2]"
   ]
  },
  {
   "cell_type": "code",
   "execution_count": 21,
   "id": "24c0d69b-7480-4cdf-8c25-fd1a3a988f43",
   "metadata": {},
   "outputs": [],
   "source": [
    "solution = Solution()"
   ]
  },
  {
   "cell_type": "code",
   "execution_count": 22,
   "id": "ba740bb6-6049-4198-8689-96cd3081cef7",
   "metadata": {},
   "outputs": [
    {
     "name": "stdout",
     "output_type": "stream",
     "text": [
      "Bias:True , l: 3, r: 5, i: -1\n",
      "Bias:True , l: 3, r: 3, i: 4\n",
      "Bias:True , l: 3, r: 2, i: 3\n",
      "Bias:False , l: 3, r: 5, i: -1\n",
      "Bias:False , l: 5, r: 5, i: 4\n",
      "Bias:False , l: 5, r: 4, i: 4\n"
     ]
    }
   ],
   "source": [
    "# Draw Inference, reverse first M - N element\n",
    "# worked!\n",
    "result = solution.searchRange([5,7,7,8,8,10],8)\n",
    "# worked!"
   ]
  },
  {
   "cell_type": "code",
   "execution_count": 6,
   "id": "26276921-189a-4cc5-9470-d65927ccd488",
   "metadata": {},
   "outputs": [
    {
     "name": "stdout",
     "output_type": "stream",
     "text": [
      "[3, 4]\n"
     ]
    }
   ],
   "source": [
    "# Display result\n",
    "print(result)\n"
   ]
  },
  {
   "cell_type": "code",
   "execution_count": 171,
   "id": "84742476-3266-486c-9a57-8d87cd3de927",
   "metadata": {},
   "outputs": [],
   "source": []
  },
  {
   "cell_type": "code",
   "execution_count": null,
   "id": "80fd8d55-6413-4c05-afb2-c92d8f76f7dc",
   "metadata": {},
   "outputs": [],
   "source": []
  }
 ],
 "metadata": {
  "kernelspec": {
   "display_name": "Python 3 (ipykernel)",
   "language": "python",
   "name": "python3"
  },
  "language_info": {
   "codemirror_mode": {
    "name": "ipython",
    "version": 3
   },
   "file_extension": ".py",
   "mimetype": "text/x-python",
   "name": "python",
   "nbconvert_exporter": "python",
   "pygments_lexer": "ipython3",
   "version": "3.12.2"
  }
 },
 "nbformat": 4,
 "nbformat_minor": 5
}
