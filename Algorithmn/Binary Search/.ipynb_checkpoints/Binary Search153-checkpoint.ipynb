{
 "cells": [
  {
   "cell_type": "code",
   "execution_count": 19,
   "id": "c72fd111-508e-41cb-b131-27785fe3c0d8",
   "metadata": {},
   "outputs": [],
   "source": [
    "# LeetCode https://leetcode.com/problems/two-sum-ii-input-array-is-sorted/\n",
    "# Normal solutiom, iterate over the list from left and right, to find the l + r == target. T O(n)\n",
    "# Binary Search problem for this will be iterate of for i in range nums: complement(real target) = target - left(i) which is a sub binary search task\n",
    "# Binary Search is not ideal for this problem but give you another idea how to convert problem into binary search\n"
   ]
  },
  {
   "cell_type": "code",
   "execution_count": null,
   "id": "2c4ab307-f7d9-4e5e-ab6a-523ecc4d12d4",
   "metadata": {},
   "outputs": [],
   "source": [
    "# T O(logn)\n",
    "class Solution(object):\n",
    "    def findMin(self, nums):\n",
    "        \"\"\"\n",
    "        :type nums: List[int]\n",
    "        :rtype: int\n",
    "        \"\"\"\n",
    "        # [0,1,2,4,5,6,7] rotate to [4,5,6,7, 0,1,2] as 4 times, k = 4, return nums[k]\n",
    "        #  O(log n) time. means binary search\n",
    "        # if nums[m+1] < nums[m], return nums[m+1] \n",
    "        # if nums[m] < nums[m-1], return nums[m] \n",
    "        # if nums[l] < nums[r], return nums[l]\n",
    "\n",
    "        # Decide which half to continue searching\n",
    "        # case 1: nums[m] > nums[l], l = m + 1\n",
    "        # case 2: nums[m] < nums[l], r = m - 1\n",
    "\n",
    "        l, r = 0, len(nums) - 1\n",
    "        # if one list or non-rotated, return nums[l]\n",
    "        if nums[l] <= nums[r]:\n",
    "            return nums[l]\n",
    "\n",
    "        while l <= r:\n",
    "            m = (l + r) // 2\n",
    "\n",
    "            if m+1 <= r and nums[m+1] < nums[m]:\n",
    "                return nums[m+1] \n",
    "            if nums[m] < nums[m-1]:\n",
    "                return nums[m] \n",
    "            if nums[m] > nums[l]:\n",
    "                l = m + 1\n",
    "            elif nums[m] < nums[r]:\n",
    "                r = m - 1\n",
    "        return 0"
   ]
  },
  {
   "cell_type": "code",
   "execution_count": null,
   "id": "d4a8205c-67b2-4936-887f-6b4a88724e3a",
   "metadata": {},
   "outputs": [],
   "source": [
    "# Binary search to find the minimum element\n",
    "    while left < right:\n",
    "        mid = left + (right - left) // 2\n",
    "        \n",
    "        # If mid element is greater than its next element, then mid+1 is the smallest\n",
    "        if nums[mid] > nums[mid + 1]:\n",
    "            return nums[mid + 1]\n",
    "        \n",
    "        # If mid element is smaller than its previous element, then mid is the smallest\n",
    "        if nums[mid] < nums[mid - 1]:\n",
    "            return nums[mid]\n",
    "        \n",
    "        # Decide which half to continue searching\n",
    "        if nums[mid] > nums[0]:\n",
    "            left = mid + 1\n",
    "        else:\n",
    "            right = mid - 1\n",
    "    \n",
    "    # If the minimum element is not found, return nums[0]\n",
    "    return nums[0]\n",
    "\n",
    "# Example usage:\n",
    "nums = [4, 5, 6, 7, 0, 1, 2]\n",
    "print(findMin(nums))  # Output: 0"
   ]
  },
  {
   "cell_type": "code",
   "execution_count": 21,
   "id": "24c0d69b-7480-4cdf-8c25-fd1a3a988f43",
   "metadata": {},
   "outputs": [],
   "source": [
    "solution = Solution()"
   ]
  },
  {
   "cell_type": "code",
   "execution_count": 22,
   "id": "ba740bb6-6049-4198-8689-96cd3081cef7",
   "metadata": {},
   "outputs": [
    {
     "name": "stdout",
     "output_type": "stream",
     "text": [
      "Bias:True , l: 3, r: 5, i: -1\n",
      "Bias:True , l: 3, r: 3, i: 4\n",
      "Bias:True , l: 3, r: 2, i: 3\n",
      "Bias:False , l: 3, r: 5, i: -1\n",
      "Bias:False , l: 5, r: 5, i: 4\n",
      "Bias:False , l: 5, r: 4, i: 4\n"
     ]
    }
   ],
   "source": [
    "# Draw Inference, reverse first M - N element\n",
    "# worked!\n",
    "result = solution.searchRange([5,7,7,8,8,10],8)\n",
    "# worked!"
   ]
  },
  {
   "cell_type": "code",
   "execution_count": 6,
   "id": "26276921-189a-4cc5-9470-d65927ccd488",
   "metadata": {},
   "outputs": [
    {
     "name": "stdout",
     "output_type": "stream",
     "text": [
      "[3, 4]\n"
     ]
    }
   ],
   "source": [
    "# Display result\n",
    "print(result)\n"
   ]
  },
  {
   "cell_type": "code",
   "execution_count": 171,
   "id": "84742476-3266-486c-9a57-8d87cd3de927",
   "metadata": {},
   "outputs": [],
   "source": []
  },
  {
   "cell_type": "code",
   "execution_count": null,
   "id": "80fd8d55-6413-4c05-afb2-c92d8f76f7dc",
   "metadata": {},
   "outputs": [],
   "source": []
  }
 ],
 "metadata": {
  "kernelspec": {
   "display_name": "Python 3 (ipykernel)",
   "language": "python",
   "name": "python3"
  },
  "language_info": {
   "codemirror_mode": {
    "name": "ipython",
    "version": 3
   },
   "file_extension": ".py",
   "mimetype": "text/x-python",
   "name": "python",
   "nbconvert_exporter": "python",
   "pygments_lexer": "ipython3",
   "version": "3.12.2"
  }
 },
 "nbformat": 4,
 "nbformat_minor": 5
}
