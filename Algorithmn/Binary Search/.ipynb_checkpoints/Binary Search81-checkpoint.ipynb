{
 "cells": [
  {
   "cell_type": "code",
   "execution_count": 19,
   "id": "c72fd111-508e-41cb-b131-27785fe3c0d8",
   "metadata": {},
   "outputs": [],
   "source": [
    "# LeetCode https://leetcode.com/problems/search-in-rotated-sorted-array/description/\n",
    "# Case, \n",
    "# m in left portion (large), if target < nums[l], l = m + 1; if target > nums[m], l = m + 1, else r = m - 1\n",
    "# m in right portion (small), if target > nums[l], r = m - 1; if target < nums[m], r = m - 1, else l = m + 1\n",
    "# How to think over it: we need to eliminate the part around m to the edge on one side, use the ohter portion's edge to compare first, then use m to compare\n",
    "'''\n",
    "Handle duplicates:\n",
    "\n",
    "if (nums[start] == nums[mid]) { start++; continue; }\n",
    "\n",
    "If the start and midpoint elements are equal, the search range is moved forward to skip the duplicate.\n",
    "'''"
   ]
  },
  {
   "cell_type": "code",
   "execution_count": 20,
   "id": "7314e57a-8802-4689-aab0-d92cb7ad3f0e",
   "metadata": {},
   "outputs": [],
   "source": [
    "# T O(2 * log n), M O(1)\n",
    "class Solution(object):\n",
    "    def search(self, nums, target):\n",
    "        \"\"\"\n",
    "        :type nums: List[int]\n",
    "        :type target: int\n",
    "        :rtype: bool\n",
    "        \"\"\"\n",
    "        # [2,5,6,0,0,1,2], target = 3\n",
    "        # l, r = 0, len(nums) - 1\n",
    "        # m = 3, nums[m] < 3\n",
    "        # if m is in right portion, if taret < rightmost, we only look at m to rightmost, else. we onlu look at left portion\n",
    "        # if m is in left portion, we only take m + 1  \n",
    "        l, r = 0, len(nums) -1 \n",
    "        while l <= r:\n",
    "            m = (l + r)// 2\n",
    "            if nums[m] == target:\n",
    "                return True\n",
    "            \n",
    "            # Hanlde duplicate\n",
    "            if nums[l] == nums[m]:\n",
    "                l += 1\n",
    "                continue\n",
    "            # m in right portion\n",
    "            if nums[m] <= nums[r]:\n",
    "                if target < nums[m] or target > nums[r]:\n",
    "                    r = m - 1\n",
    "                else :\n",
    "                    l = m + 1\n",
    "            # m in left portion\n",
    "            elif nums[m] > nums[r]:\n",
    "                if target < nums[l] or target > nums[m]:                                 \n",
    "                    l = m + 1\n",
    "                else :\n",
    "                    r = m - 1\n",
    "                    \n",
    "        return False\n",
    "\n",
    "\n",
    "\n"
   ]
  },
  {
   "cell_type": "code",
   "execution_count": 21,
   "id": "24c0d69b-7480-4cdf-8c25-fd1a3a988f43",
   "metadata": {},
   "outputs": [],
   "source": [
    "solution = Solution()"
   ]
  },
  {
   "cell_type": "code",
   "execution_count": 22,
   "id": "ba740bb6-6049-4198-8689-96cd3081cef7",
   "metadata": {},
   "outputs": [
    {
     "name": "stdout",
     "output_type": "stream",
     "text": [
      "Bias:True , l: 3, r: 5, i: -1\n",
      "Bias:True , l: 3, r: 3, i: 4\n",
      "Bias:True , l: 3, r: 2, i: 3\n",
      "Bias:False , l: 3, r: 5, i: -1\n",
      "Bias:False , l: 5, r: 5, i: 4\n",
      "Bias:False , l: 5, r: 4, i: 4\n"
     ]
    }
   ],
   "source": [
    "# Draw Inference, reverse first M - N element\n",
    "# worked!\n",
    "result = solution.searchRange([5,7,7,8,8,10],8)\n",
    "# worked!"
   ]
  },
  {
   "cell_type": "code",
   "execution_count": 6,
   "id": "26276921-189a-4cc5-9470-d65927ccd488",
   "metadata": {},
   "outputs": [
    {
     "name": "stdout",
     "output_type": "stream",
     "text": [
      "[3, 4]\n"
     ]
    }
   ],
   "source": [
    "# Display result\n",
    "print(result)\n"
   ]
  },
  {
   "cell_type": "code",
   "execution_count": 171,
   "id": "84742476-3266-486c-9a57-8d87cd3de927",
   "metadata": {},
   "outputs": [],
   "source": []
  },
  {
   "cell_type": "code",
   "execution_count": null,
   "id": "80fd8d55-6413-4c05-afb2-c92d8f76f7dc",
   "metadata": {},
   "outputs": [],
   "source": []
  }
 ],
 "metadata": {
  "kernelspec": {
   "display_name": "Python 3 (ipykernel)",
   "language": "python",
   "name": "python3"
  },
  "language_info": {
   "codemirror_mode": {
    "name": "ipython",
    "version": 3
   },
   "file_extension": ".py",
   "mimetype": "text/x-python",
   "name": "python",
   "nbconvert_exporter": "python",
   "pygments_lexer": "ipython3",
   "version": "3.12.2"
  }
 },
 "nbformat": 4,
 "nbformat_minor": 5
}
