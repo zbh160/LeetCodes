{
 "cells": [
  {
   "cell_type": "code",
   "execution_count": 1,
   "id": "c72fd111-508e-41cb-b131-27785fe3c0d8",
   "metadata": {},
   "outputs": [],
   "source": [
    "# LeetCode https://leetcode.com/problems/reverse-linked-list/description/?envType=daily-question&envId=2024-03-21\n",
    "# Return m if nums[m] == target\n",
    "# Case 1, m is at the left side (bigger), we are hoping to exclude the left side and just look at right side of m,that means if nums[m] < target, that means just look at m+1; if nums[l] > target, we just look at m +1\n",
    "# Case 2, m is at the right side (smaller), we are hoping to exclude the right side and just look at left side of m,that means if nums[m] > target, that means just look at m-1; if nums[r] < target, we just look at m -1"
   ]
  },
  {
   "cell_type": "code",
   "execution_count": 1,
   "id": "7314e57a-8802-4689-aab0-d92cb7ad3f0e",
   "metadata": {},
   "outputs": [],
   "source": [
    "# T O(log n), M O(n)\n",
    "class Solution(object):\n",
    "    def search(self, nums, target):\n",
    "        \"\"\"\n",
    "        :type nums: List[int]\n",
    "        :type target: int\n",
    "        :rtype: int\n",
    "        \"\"\"\n",
    "        l, r = 0, len(nums) - 1\n",
    "\n",
    "        while l <= r:\n",
    "            m = (l + r) // 2\n",
    "            if nums[m] == target:\n",
    "                return m\n",
    "            # mid in left sorted portion, 3, 4, 5,7, and mid = 5 for example\n",
    "            if nums[l] <= nums[m]: \n",
    "                # Case 1 left sorted portion after mid, target > m\n",
    "                # Case 2, left sorted portion not found, search right sorted portion, target < l\n",
    "                if target > nums[m] or target < nums[l]:             \n",
    "                    l = m + 1\n",
    "                # Case 3, m > target > l \n",
    "                else:\n",
    "                    r = m - 1\n",
    "            # mid in right sorted portion\n",
    "            else:\n",
    "                # Case 1 right sorted portion before mid, target < m\n",
    "                # Case 2, right sorted portion not found, search left sorted portion, target < l\n",
    "                if target < nums[m] or target > nums[r]:\n",
    "                    r = m - 1\n",
    "                else:\n",
    "                    l = m + 1           \n",
    "        return -1\n",
    "        "
   ]
  },
  {
   "cell_type": "code",
   "execution_count": 2,
   "id": "24c0d69b-7480-4cdf-8c25-fd1a3a988f43",
   "metadata": {},
   "outputs": [],
   "source": [
    "solution = Solution()"
   ]
  },
  {
   "cell_type": "code",
   "execution_count": 5,
   "id": "ba740bb6-6049-4198-8689-96cd3081cef7",
   "metadata": {},
   "outputs": [],
   "source": [
    "# Draw Inference, reverse first M - N element\n",
    "# worked!\n",
    "result = solution.search([1,3,4],3)\n",
    "# worked!"
   ]
  },
  {
   "cell_type": "code",
   "execution_count": 6,
   "id": "26276921-189a-4cc5-9470-d65927ccd488",
   "metadata": {},
   "outputs": [
    {
     "name": "stdout",
     "output_type": "stream",
     "text": [
      "2\n"
     ]
    }
   ],
   "source": [
    "# Display result\n",
    "print(result)\n"
   ]
  },
  {
   "cell_type": "code",
   "execution_count": 171,
   "id": "84742476-3266-486c-9a57-8d87cd3de927",
   "metadata": {},
   "outputs": [],
   "source": []
  },
  {
   "cell_type": "code",
   "execution_count": null,
   "id": "80fd8d55-6413-4c05-afb2-c92d8f76f7dc",
   "metadata": {},
   "outputs": [],
   "source": []
  }
 ],
 "metadata": {
  "kernelspec": {
   "display_name": "Python 3 (ipykernel)",
   "language": "python",
   "name": "python3"
  },
  "language_info": {
   "codemirror_mode": {
    "name": "ipython",
    "version": 3
   },
   "file_extension": ".py",
   "mimetype": "text/x-python",
   "name": "python",
   "nbconvert_exporter": "python",
   "pygments_lexer": "ipython3",
   "version": "3.12.2"
  }
 },
 "nbformat": 4,
 "nbformat_minor": 5
}
