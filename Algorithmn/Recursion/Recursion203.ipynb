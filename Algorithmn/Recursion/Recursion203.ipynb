{
 "cells": [
  {
   "cell_type": "code",
   "execution_count": 280,
   "id": "c72fd111-508e-41cb-b131-27785fe3c0d8",
   "metadata": {},
   "outputs": [],
   "source": [
    "# https://leetcode.com/problems/remove-duplicates-from-sorted-array/description/\n",
    "# f(0) = 0, f(1) = 1, f(2) = f(0) + f(1), f(3) = f(1) + f(2) -> f(n) = f(n - 1) + f(n - 2)\n",
    "# How it works: break down task into sub tasks, all the way until stop point met, value access start from base case. then backward all the way to beginning\n",
    "\n",
    "# Components. 1. Base Case 2. Recursion Case"
   ]
  },
  {
   "cell_type": "code",
   "execution_count": 1,
   "id": "7314e57a-8802-4689-aab0-d92cb7ad3f0e",
   "metadata": {},
   "outputs": [],
   "source": [
    "\n",
    "# T O(n), M O(n)\n",
    "class Solution(object):\n",
    "    def fib(self, n) -> int:\n",
    "        \"\"\"\n",
    "        :type n: int\n",
    "        :rtype: int\n",
    "        \"\"\"\n",
    "        # Base case: \n",
    "        if n == 0:\n",
    "            return 0\n",
    "        if n == 1:\n",
    "            return 1\n",
    "        # Recursion Case    \n",
    "        return self.fib(n - 1) + self.fib(n - 2)"
   ]
  },
  {
   "cell_type": "code",
   "execution_count": 2,
   "id": "24c0d69b-7480-4cdf-8c25-fd1a3a988f43",
   "metadata": {},
   "outputs": [],
   "source": [
    "solution = Solution()"
   ]
  },
  {
   "cell_type": "code",
   "execution_count": 3,
   "id": "ba740bb6-6049-4198-8689-96cd3081cef7",
   "metadata": {},
   "outputs": [],
   "source": [
    "# Draw Inference, reverse first M - N element\n",
    "# worked!\n",
    "result = solution.fib(3)\n",
    "# worked!"
   ]
  },
  {
   "cell_type": "code",
   "execution_count": 4,
   "id": "26276921-189a-4cc5-9470-d65927ccd488",
   "metadata": {},
   "outputs": [
    {
     "name": "stdout",
     "output_type": "stream",
     "text": [
      "1\n"
     ]
    }
   ],
   "source": [
    "# Display result\n",
    "print(result)\n"
   ]
  },
  {
   "cell_type": "code",
   "execution_count": 171,
   "id": "84742476-3266-486c-9a57-8d87cd3de927",
   "metadata": {},
   "outputs": [],
   "source": []
  },
  {
   "cell_type": "code",
   "execution_count": null,
   "id": "80fd8d55-6413-4c05-afb2-c92d8f76f7dc",
   "metadata": {},
   "outputs": [],
   "source": []
  }
 ],
 "metadata": {
  "kernelspec": {
   "display_name": "Python 3 (ipykernel)",
   "language": "python",
   "name": "python3"
  },
  "language_info": {
   "codemirror_mode": {
    "name": "ipython",
    "version": 3
   },
   "file_extension": ".py",
   "mimetype": "text/x-python",
   "name": "python",
   "nbconvert_exporter": "python",
   "pygments_lexer": "ipython3",
   "version": "3.12.2"
  }
 },
 "nbformat": 4,
 "nbformat_minor": 5
}
