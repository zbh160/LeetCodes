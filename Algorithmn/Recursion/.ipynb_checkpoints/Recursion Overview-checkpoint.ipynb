{
 "cells": [
  {
   "cell_type": "code",
   "execution_count": 11,
   "id": "c72fd111-508e-41cb-b131-27785fe3c0d8",
   "metadata": {},
   "outputs": [],
   "source": [
    "# f(0) = 0, f(1) = 1, f(2) = f(0) + f(1), f(3) = f(1) + f(2) -> f(n) = f(n - 1) + f(n - 2)\n",
    "# How it works: break down task into sub tasks, all the way until stop point met, value access start from base case. then backward all the way to beginning\n",
    "# Explain: Recursion refers to a programming technique where a function calls itself in order to solve a problem\n",
    "#          Note that recursion doesn't necessarily need to lead back from base case.\n",
    "'''\n",
    "           1. Tree traversal: In tree traversal algorithms like preorder, inorder, and postorder traversal, the recursive calls typically move deeper into the tree until the base case is reached (often a leaf node). However, the actual processing of nodes might happen before, between, or after the recursive calls, depending on the traversal order.\n",
    "\n",
    "           2. Backtracking: In backtracking algorithms, the base case may represent a valid solution or a failure condition. In either case, the recursion may involve exploring different paths and choices, and the unwinding of recursion doesn't necessarily mean reversing the logic from the base case.\n",
    "\n",
    "           3. Dynamic programming: In dynamic programming, recursive calls might not strictly reverse from the base case because the solution involves memoizing intermediate results and reusing them to build up the final solution.\n",
    "'''\n",
    "#          In many cases, the recursion logic does lead back to the base case, but this is not a strict requirement.\n",
    "# Components. 1. Base Case 2. Recursion Case\n",
    "'''\n",
    "# Use Cases: 1. Tree-like structures. Problems involving tree-like structures such as binary trees, n-ary trees, and graphs are often solved using recursion. Traversing, searching, and modifying tree structures can be elegantly implemented using recursive algorithms.\n",
    "             2.Backtracking: Problems that involve exhaustive search and backtracking, such as generating all permutations, combinations, or subsets of a set, are typically solved using recursive backtracking algorithms.\n",
    "             3. Dynamic programming: Many dynamic programming problems can be solved recursively. The recursive approach involves breaking down the problem into smaller overlapping subproblems and then memoizing the results to avoid redundant computations. Although it's worth noting that in some cases, dynamic programming can also be implemented iteratively to improve performance.\n",
    "             4. Recursive data structures: Recursive algorithms are naturally suited for working with recursive data structures such as linked lists and nested data structures.\n",
    "             5. Mathematical problems: Recursive solutions are often elegant and intuitive for problems with mathematical properties that can be expressed recursively, such as factorial, Fibonacci sequence, and calculating combinations and permutations.\n",
    "             6. Divide and conquer: Problems that can be divided into smaller subproblems, solved independently, and then combined to find the final solution are good candidates for recursion. Merge sort and quicksort are classic examples of divide and conquer algorithms that use recursion.\n",
    "'''\n",
    "\n"
   ]
  },
  {
   "cell_type": "code",
   "execution_count": 8,
   "id": "7314e57a-8802-4689-aab0-d92cb7ad3f0e",
   "metadata": {},
   "outputs": [],
   "source": [
    "\n",
    "# T O(n), M O(n)\n",
    "class Solution(object):\n",
    "    def fib(self, n) -> int:\n",
    "        \"\"\"\n",
    "        :type n: int\n",
    "        :rtype: int\n",
    "        \"\"\"\n",
    "        # Base case: \n",
    "        if n == 0:\n",
    "            return 0\n",
    "        if n == 1:\n",
    "            return 1\n",
    "        # Recursion Case    \n",
    "        return self.fib(n - 1) + self.fib(n - 2)\n",
    "    def factorial(self,n):\n",
    "        if n == 0:\n",
    "            return 1\n",
    "        else:\n",
    "            return n * self.factorial(n-1)\n",
    "\n"
   ]
  },
  {
   "cell_type": "code",
   "execution_count": 9,
   "id": "24c0d69b-7480-4cdf-8c25-fd1a3a988f43",
   "metadata": {},
   "outputs": [],
   "source": [
    "solution = Solution()"
   ]
  },
  {
   "cell_type": "code",
   "execution_count": 10,
   "id": "ba740bb6-6049-4198-8689-96cd3081cef7",
   "metadata": {},
   "outputs": [
    {
     "name": "stdout",
     "output_type": "stream",
     "text": [
      "Factorial of 5 is: 120\n"
     ]
    }
   ],
   "source": [
    "# Draw Inference, reverse first M - N element\n",
    "# worked!\n",
    "result = solution.fib(3)\n",
    "# worked!\n",
    "result = solution.factorial(5)\n",
    "print(\"Factorial of 5 is:\", result)"
   ]
  },
  {
   "cell_type": "code",
   "execution_count": 4,
   "id": "26276921-189a-4cc5-9470-d65927ccd488",
   "metadata": {},
   "outputs": [
    {
     "name": "stdout",
     "output_type": "stream",
     "text": [
      "1\n"
     ]
    }
   ],
   "source": [
    "# Display result\n",
    "print(result)\n"
   ]
  },
  {
   "cell_type": "code",
   "execution_count": 171,
   "id": "84742476-3266-486c-9a57-8d87cd3de927",
   "metadata": {},
   "outputs": [],
   "source": [
    "class TreeNode:\n",
    "    def __init__(self, value):\n",
    "        self.value = value\n",
    "        self.left = None\n",
    "        self.right = None\n",
    "\n",
    "def preorder_traversal(node):\n",
    "    if node is not None:\n",
    "        print(node.value, end=\" \")\n",
    "        preorder_traversal(node.left)\n",
    "        preorder_traversal(node.right)\n",
    "\n",
    "def inorder_traversal(node):\n",
    "    if node is not None:\n",
    "        inorder_traversal(node.left)\n",
    "        print(node.value, end=\" \")\n",
    "        inorder_traversal(node.right)\n",
    "\n",
    "def postorder_traversal(node):\n",
    "    if node is not None:\n",
    "        postorder_traversal(node.left)\n",
    "        postorder_traversal(node.right)\n",
    "        print(node.value, end=\" \")\n",
    "\n",
    "# Example tree\n",
    "#      1\n",
    "#    /   \\\n",
    "#   2     3\n",
    "#  / \\   / \\\n",
    "# 4   5 6   7\n",
    "\n",
    "root = TreeNode(1)\n",
    "root.left = TreeNode(2)\n",
    "root.right = TreeNode(3)\n",
    "root.left.left = TreeNode(4)\n",
    "root.left.right = TreeNode(5)\n",
    "root.right.left = TreeNode(6)\n",
    "root.right.right = TreeNode(7)\n",
    "\n",
    "print(\"Preorder Traversal:\", end=\" \")\n",
    "preorder_traversal(root)\n",
    "print()\n",
    "\n",
    "print(\"Inorder Traversal:\", end=\" \")\n",
    "inorder_traversal(root)\n",
    "print()\n",
    "\n",
    "print(\"Postorder Traversal:\", end=\" \")\n",
    "postorder_traversal(root)\n",
    "print()\n",
    "\n",
    "'''\n",
    "Preorder Traversal: Visit the current node, then recursively traverse the left subtree, and finally recursively traverse the right subtree.\n",
    "\n",
    "Inorder Traversal: Recursively traverse the left subtree, visit the current node, and then recursively traverse the right subtree.\n",
    "\n",
    "Postorder Traversal: Recursively traverse the left subtree, then recursively traverse the right subtree, and finally visit the current node.\n",
    "\n",
    "Recursion is fundamental to tree traversal algorithms because trees inherently exhibit recursive structure: each subtree itself is a smaller tree.\n",
    "'''"
   ]
  },
  {
   "cell_type": "code",
   "execution_count": null,
   "id": "80fd8d55-6413-4c05-afb2-c92d8f76f7dc",
   "metadata": {},
   "outputs": [],
   "source": []
  }
 ],
 "metadata": {
  "kernelspec": {
   "display_name": "Python 3 (ipykernel)",
   "language": "python",
   "name": "python3"
  },
  "language_info": {
   "codemirror_mode": {
    "name": "ipython",
    "version": 3
   },
   "file_extension": ".py",
   "mimetype": "text/x-python",
   "name": "python",
   "nbconvert_exporter": "python",
   "pygments_lexer": "ipython3",
   "version": "3.12.2"
  }
 },
 "nbformat": 4,
 "nbformat_minor": 5
}
