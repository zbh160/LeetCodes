{
 "cells": [
  {
   "cell_type": "code",
   "execution_count": 19,
   "id": "c72fd111-508e-41cb-b131-27785fe3c0d8",
   "metadata": {},
   "outputs": [],
   "source": [
    "# LeetCode https://leetcode.com/problems/sort-array-by-parity/\n",
    "# two pointer pointer1 and pointer2 starting with each sorted list, compare node to find equal node until end\n",
    "'''\n",
    "Sorting Arrays:\n",
    "\n",
    "We start by sorting both input arrays nums1 and nums2. Sorting allows us to compare elements in a sorted order, which simplifies the process of finding common elements.\n",
    "Initializing Pointers:\n",
    "\n",
    "We initialize two pointers, pointer1 and pointer2, to keep track of the current position in both sorted arrays. Initially, both pointers are set to the beginning of their respective arrays.\n",
    "Iterating Through Arrays:\n",
    "\n",
    "We use a while loop to iterate through both arrays simultaneously using the two pointers.\n",
    "At each iteration, we compare the elements pointed by pointer1 and pointer2:\n",
    "If the elements are equal, it means we've found a common element. We add this element to the intersection list and move both pointers forward to consider the next elements in both arrays.\n",
    "If the element pointed by pointer1 is smaller than the element pointed by pointer2, we move pointer1 forward. This ensures that we advance pointer1 towards larger elements, potentially finding a match in nums2.\n",
    "If the element pointed by pointer2 is smaller than the element pointed by pointer1, we move pointer2 forward. This ensures that we advance pointer2 towards larger elements, potentially finding a match in nums1.\n",
    "Terminating the Loop:\n",
    "\n",
    "We continue this process until one of the pointers reaches the end of its respective array. This indicates that we have considered all elements in at least one of the arrays.\n",
    "Returning the Intersection:\n",
    "\n",
    "Finally, we return the intersection list containing the common elements found during the iteration.\n",
    "\n",
    "\n",
    "\n",
    "Note that \n",
    "\n",
    "If the requirement is that the intersection has to be continuous (consecutive) in both lists, the two-pointer approach would not be suitable. This is because the two-pointer approach only compares elements at corresponding positions in the sorted arrays, and it doesn't consider the requirement for consecutive intersections.\n",
    "\n",
    "For example, in the scenario you provided: [4, 7, 5] and [1, 4, 8, 4, 7], while both arrays contain the elements 4 and 7, they are not consecutive in both arrays. Therefore, the two-pointer approach would not correctly identify the intersection.\n",
    "\n",
    "\n",
    "In the scenario where one array is [4, 7, 5] and the other is [1, 4, 8, 4, 7], the two-pointer approach would still correctly identify the common elements. However, it's important to note that the intersection list would only contain the elements that are present in both arrays.\n",
    "\n",
    "Here's how the algorithm would handle this scenario:\n",
    "\n",
    "Sorting:\n",
    "\n",
    "Both arrays are sorted before comparison. After sorting, the arrays become [4, 5, 7] and [1, 4, 4, 7, 8].\n",
    "Initialization:\n",
    "\n",
    "We initialize two pointers, pointer1 and pointer2, at the beginning of both arrays: pointer1 at index 0 of the first array ([4, 5, 7]) and pointer2 at index 0 of the second array ([1, 4, 4, 7, 8]).\n",
    "Comparison:\n",
    "\n",
    "At the first iteration, pointer1 points to 4 and pointer2 points to 1. Since 4 is greater than 1, we move pointer2 to the right to consider the next element.\n",
    "At the second iteration, pointer1 points to 4 and pointer2 points to 4. Both elements are equal, so we found an intersection. We add 4 to the intersection list and increment both pointers.\n",
    "At the third iteration, pointer1 points to 5 and pointer2 points to 4. Since 5 is greater than 4, we move pointer2 to the right.\n",
    "At the fourth iteration, pointer1 points to 5 and pointer2 points to 4. Since 5 is greater than 4, we move pointer2 to the right again.\n",
    "At the fifth iteration, pointer1 points to 5 and pointer2 points to 7. Since 5 is less than 7, we move pointer1 to the right.\n",
    "At the sixth iteration, pointer1 points to 7 and pointer2 points to 7. Both elements are equal, so we found another intersection. We add 7 to the intersection list and increment both pointers.\n",
    "Termination:\n",
    "\n",
    "Since pointer1 has reached the end of the first array and pointer2 has reached the end of the second array, the iteration stops.\n",
    "Intersection:\n",
    "\n",
    "The intersection list contains the common elements [4, 7].\n",
    "In this scenario, the element 5 from the first array is not found in the second array, so it is not included in the intersection list. The two-pointer approach efficiently identifies common elements while considering the sorted order of the arrays.\n",
    "\n",
    "'''"
   ]
  },
  {
   "cell_type": "code",
   "execution_count": 1,
   "id": "7314e57a-8802-4689-aab0-d92cb7ad3f0e",
   "metadata": {},
   "outputs": [],
   "source": [
    "# T O(m * log(m) + n * log(n) + m + n), M O(1)\n",
    "class Solution(object):\n",
    "    def intersect(self, nums1, nums2):\n",
    "        \"\"\"\n",
    "        :type nums1: List[int]\n",
    "        :type nums2: List[int]\n",
    "        :rtype: List[int]\n",
    "        \"\"\"\n",
    "        nums1.sort()\n",
    "        nums2.sort()\n",
    "    \n",
    "        intersection = []\n",
    "        pointer1, pointer2 = 0, 0\n",
    "        \n",
    "        while pointer1 < len(nums1) and pointer2 < len(nums2):\n",
    "            if nums1[pointer1] == nums2[pointer2]:\n",
    "                intersection.append(nums1[pointer1])\n",
    "                pointer1 += 1\n",
    "                pointer2 += 1\n",
    "            elif nums1[pointer1] < nums2[pointer2]:\n",
    "                pointer1 += 1\n",
    "            else:\n",
    "                pointer2 += 1\n",
    "        \n",
    "        return intersection\n",
    "\n",
    "\n",
    "                \n",
    "\n",
    "\n"
   ]
  },
  {
   "cell_type": "code",
   "execution_count": 2,
   "id": "24c0d69b-7480-4cdf-8c25-fd1a3a988f43",
   "metadata": {},
   "outputs": [],
   "source": [
    "solution = Solution()"
   ]
  },
  {
   "cell_type": "code",
   "execution_count": 3,
   "id": "ba740bb6-6049-4198-8689-96cd3081cef7",
   "metadata": {},
   "outputs": [
    {
     "ename": "AttributeError",
     "evalue": "'Solution' object has no attribute 'searchRange'",
     "output_type": "error",
     "traceback": [
      "\u001b[1;31m---------------------------------------------------------------------------\u001b[0m",
      "\u001b[1;31mAttributeError\u001b[0m                            Traceback (most recent call last)",
      "Cell \u001b[1;32mIn[3], line 3\u001b[0m\n\u001b[0;32m      1\u001b[0m \u001b[38;5;66;03m# Draw Inference, reverse first M - N element\u001b[39;00m\n\u001b[0;32m      2\u001b[0m \u001b[38;5;66;03m# worked!\u001b[39;00m\n\u001b[1;32m----> 3\u001b[0m result \u001b[38;5;241m=\u001b[39m \u001b[43msolution\u001b[49m\u001b[38;5;241;43m.\u001b[39;49m\u001b[43msearchRange\u001b[49m([\u001b[38;5;241m5\u001b[39m,\u001b[38;5;241m7\u001b[39m,\u001b[38;5;241m7\u001b[39m,\u001b[38;5;241m8\u001b[39m,\u001b[38;5;241m8\u001b[39m,\u001b[38;5;241m10\u001b[39m],\u001b[38;5;241m8\u001b[39m)\n\u001b[0;32m      4\u001b[0m \u001b[38;5;66;03m# worked!\u001b[39;00m\n",
      "\u001b[1;31mAttributeError\u001b[0m: 'Solution' object has no attribute 'searchRange'"
     ]
    }
   ],
   "source": [
    "# Draw Inference, reverse first M - N element\n",
    "# worked!\n",
    "result = solution.searchRange([5,7,7,8,8,10],8)\n",
    "# worked!"
   ]
  },
  {
   "cell_type": "code",
   "execution_count": 6,
   "id": "26276921-189a-4cc5-9470-d65927ccd488",
   "metadata": {},
   "outputs": [
    {
     "name": "stdout",
     "output_type": "stream",
     "text": [
      "[3, 4]\n"
     ]
    }
   ],
   "source": [
    "# Display result\n",
    "print(result)\n"
   ]
  },
  {
   "cell_type": "code",
   "execution_count": 171,
   "id": "84742476-3266-486c-9a57-8d87cd3de927",
   "metadata": {},
   "outputs": [],
   "source": []
  },
  {
   "cell_type": "code",
   "execution_count": null,
   "id": "80fd8d55-6413-4c05-afb2-c92d8f76f7dc",
   "metadata": {},
   "outputs": [],
   "source": []
  }
 ],
 "metadata": {
  "kernelspec": {
   "display_name": "Python 3 (ipykernel)",
   "language": "python",
   "name": "python3"
  },
  "language_info": {
   "codemirror_mode": {
    "name": "ipython",
    "version": 3
   },
   "file_extension": ".py",
   "mimetype": "text/x-python",
   "name": "python",
   "nbconvert_exporter": "python",
   "pygments_lexer": "ipython3",
   "version": "3.12.2"
  }
 },
 "nbformat": 4,
 "nbformat_minor": 5
}
