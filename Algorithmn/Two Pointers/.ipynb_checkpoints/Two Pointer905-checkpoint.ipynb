{
 "cells": [
  {
   "cell_type": "code",
   "execution_count": 19,
   "id": "c72fd111-508e-41cb-b131-27785fe3c0d8",
   "metadata": {},
   "outputs": [],
   "source": [
    "# LeetCode https://leetcode.com/problems/intersection-of-two-arrays-ii/\n",
    "# two pointer i and last_i, iterate i through nums, and if found any even, swap value with nums[last_i], increase last_i"
   ]
  },
  {
   "cell_type": "code",
   "execution_count": 1,
   "id": "7314e57a-8802-4689-aab0-d92cb7ad3f0e",
   "metadata": {},
   "outputs": [],
   "source": [
    "# T O(n), M O(1)\n",
    "class Solution(object):\n",
    "    def sortArrayByParity(self, nums):\n",
    "        \"\"\"\n",
    "        :type nums: List[int]\n",
    "        :rtype: List[int]\n",
    "        \"\"\"\n",
    "        # ex1 [3,1,2,4], -> 2 1 3 4 ->2 4 3 1\n",
    "        # ex2 [2 3 1 5] -> 2 3 1 5 -> 2 3 1 5\n",
    "        # ex3 [2 3 1 4] -> 2 3 1 4 -> 2 4 1 3\n",
    "        i, last_i = 0, 0\n",
    "        while i < len(nums):\n",
    "            # swap val at last_id and i, i++, last_i ++\n",
    "            # print(i, last_i, nums)\n",
    "            if nums[i] % 2 == 0:\n",
    "                temp = nums[last_i]\n",
    "                nums[last_i] = nums[i]\n",
    "                nums[i] = temp\n",
    "                last_i += 1\n",
    "            i += 1\n",
    "            \n",
    "        return nums\n",
    "                \n",
    "\n",
    "\n"
   ]
  },
  {
   "cell_type": "code",
   "execution_count": 2,
   "id": "24c0d69b-7480-4cdf-8c25-fd1a3a988f43",
   "metadata": {},
   "outputs": [],
   "source": [
    "solution = Solution()"
   ]
  },
  {
   "cell_type": "code",
   "execution_count": 3,
   "id": "ba740bb6-6049-4198-8689-96cd3081cef7",
   "metadata": {},
   "outputs": [
    {
     "ename": "AttributeError",
     "evalue": "'Solution' object has no attribute 'searchRange'",
     "output_type": "error",
     "traceback": [
      "\u001b[1;31m---------------------------------------------------------------------------\u001b[0m",
      "\u001b[1;31mAttributeError\u001b[0m                            Traceback (most recent call last)",
      "Cell \u001b[1;32mIn[3], line 3\u001b[0m\n\u001b[0;32m      1\u001b[0m \u001b[38;5;66;03m# Draw Inference, reverse first M - N element\u001b[39;00m\n\u001b[0;32m      2\u001b[0m \u001b[38;5;66;03m# worked!\u001b[39;00m\n\u001b[1;32m----> 3\u001b[0m result \u001b[38;5;241m=\u001b[39m \u001b[43msolution\u001b[49m\u001b[38;5;241;43m.\u001b[39;49m\u001b[43msearchRange\u001b[49m([\u001b[38;5;241m5\u001b[39m,\u001b[38;5;241m7\u001b[39m,\u001b[38;5;241m7\u001b[39m,\u001b[38;5;241m8\u001b[39m,\u001b[38;5;241m8\u001b[39m,\u001b[38;5;241m10\u001b[39m],\u001b[38;5;241m8\u001b[39m)\n\u001b[0;32m      4\u001b[0m \u001b[38;5;66;03m# worked!\u001b[39;00m\n",
      "\u001b[1;31mAttributeError\u001b[0m: 'Solution' object has no attribute 'searchRange'"
     ]
    }
   ],
   "source": [
    "# Draw Inference, reverse first M - N element\n",
    "# worked!\n",
    "result = solution.searchRange([5,7,7,8,8,10],8)\n",
    "# worked!"
   ]
  },
  {
   "cell_type": "code",
   "execution_count": 6,
   "id": "26276921-189a-4cc5-9470-d65927ccd488",
   "metadata": {},
   "outputs": [
    {
     "name": "stdout",
     "output_type": "stream",
     "text": [
      "[3, 4]\n"
     ]
    }
   ],
   "source": [
    "# Display result\n",
    "print(result)\n"
   ]
  },
  {
   "cell_type": "code",
   "execution_count": 171,
   "id": "84742476-3266-486c-9a57-8d87cd3de927",
   "metadata": {},
   "outputs": [],
   "source": []
  },
  {
   "cell_type": "code",
   "execution_count": null,
   "id": "80fd8d55-6413-4c05-afb2-c92d8f76f7dc",
   "metadata": {},
   "outputs": [],
   "source": []
  }
 ],
 "metadata": {
  "kernelspec": {
   "display_name": "Python 3 (ipykernel)",
   "language": "python",
   "name": "python3"
  },
  "language_info": {
   "codemirror_mode": {
    "name": "ipython",
    "version": 3
   },
   "file_extension": ".py",
   "mimetype": "text/x-python",
   "name": "python",
   "nbconvert_exporter": "python",
   "pygments_lexer": "ipython3",
   "version": "3.12.2"
  }
 },
 "nbformat": 4,
 "nbformat_minor": 5
}
