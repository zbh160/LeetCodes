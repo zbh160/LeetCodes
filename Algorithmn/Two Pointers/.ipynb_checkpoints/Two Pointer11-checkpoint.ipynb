{
 "cells": [
  {
   "cell_type": "code",
   "execution_count": 19,
   "id": "c72fd111-508e-41cb-b131-27785fe3c0d8",
   "metadata": {},
   "outputs": [],
   "source": [
    "# LeetCode https://leetcode.com/problems/binary-search/description/\n",
    "# How it works: l and r pointer, find m, compare target and nums[m], if target > nums[m], l = m + 1; elif target < nums[m], r = m - 1\n",
    "# Use Case sorted nums list, target\n",
    "'''\n",
    "1. The data structure must be sorted.\n",
    "2. Access to any element of the data structure takes constant time. \n",
    "\n",
    "https://leetcode.com/problems/search-in-rotated-sorted-array-ii/solutions/4660766/easy-beginner-dry-run-brute-force-binary-search-time-o-log-n-space-o-1-gits/\n",
    "\n",
    "\n",
    "Step 1. Binary Search Loop:\n",
    "\n",
    "while (start <= end) { ... }\n",
    "The loop continues as long as start is less than or equal to end.\n",
    "Step 2. Calculate Midpoint:\n",
    "\n",
    "int mid = (start + end) / 2;\n",
    "The midpoint of the current search range is calculated.\n",
    "Step 3. Check if Target is Found:\n",
    "\n",
    "if (target == nums[mid]) return true;\n",
    "If the target value is found at the midpoint, return true.\n",
    "Step 4. Adjust Search Range:\n",
    "\n",
    "Handle duplicates:\n",
    "\n",
    "if (nums[start] == nums[mid]) { start++; continue; }\n",
    "\n",
    "If the start and midpoint elements are equal, the search range is moved forward to skip the duplicate.\n",
    "\n",
    "Step 5. Determine which part of the array to search:\n",
    "\n",
    "else if (nums[mid] <= nums[end]) { ... } else { ... }\n",
    "\n",
    "This part checks whether the midpoint divides the array into a sorted or unsorted part. Depending on the target's position relative to nums[mid] and either nums[start] or nums[end], the search range is adjusted by moving start or end.\n",
    "**Step 6. Return False:\n",
    "\n",
    "return false;\n",
    "\n",
    "If the loop exits without finding the target, false is returned.\n",
    "\n",
    "'''\n",
    "# Components. 1. l, r 2. While Loop r> l. Stop Explain: l will only add, r will only subtract, when l = r, it's thelast loop, since (l + r) // 2 == l, next loop if not found, l will > r or r < l"
   ]
  },
  {
   "cell_type": "code",
   "execution_count": 1,
   "id": "7314e57a-8802-4689-aab0-d92cb7ad3f0e",
   "metadata": {},
   "outputs": [],
   "source": [
    "# T O(log n), M O(1)\n",
    "class Solution(object):\n",
    "    def search(self, nums, target):\n",
    "        \"\"\"\n",
    "        :type nums: List[int]\n",
    "        :type target: int\n",
    "        :rtype: int\n",
    "        \"\"\"\n",
    "        l,r = 0, len(nums) - 1\n",
    "        # [1], target = 2\n",
    "        # l = m + 1, r =0, that means cross the boundary\n",
    "        while l <=r:\n",
    "            # Note that integer have max to 2^31. it's possible l+r could overflow\n",
    "            # Alternative way doing so without error is to us m = l + ((r - l) / 2)\n",
    "            m = (l + r) // 2\n",
    "            if nums[m] > target:\n",
    "                r = m - 1\n",
    "            elif nums[m] < target:\n",
    "                l = m + 1\n",
    "            else:\n",
    "                return m\n",
    "        return -1 \n",
    "\n"
   ]
  },
  {
   "cell_type": "code",
   "execution_count": 2,
   "id": "24c0d69b-7480-4cdf-8c25-fd1a3a988f43",
   "metadata": {},
   "outputs": [],
   "source": [
    "solution = Solution()"
   ]
  },
  {
   "cell_type": "code",
   "execution_count": 3,
   "id": "ba740bb6-6049-4198-8689-96cd3081cef7",
   "metadata": {},
   "outputs": [
    {
     "ename": "AttributeError",
     "evalue": "'Solution' object has no attribute 'searchRange'",
     "output_type": "error",
     "traceback": [
      "\u001b[1;31m---------------------------------------------------------------------------\u001b[0m",
      "\u001b[1;31mAttributeError\u001b[0m                            Traceback (most recent call last)",
      "Cell \u001b[1;32mIn[3], line 3\u001b[0m\n\u001b[0;32m      1\u001b[0m \u001b[38;5;66;03m# Draw Inference, reverse first M - N element\u001b[39;00m\n\u001b[0;32m      2\u001b[0m \u001b[38;5;66;03m# worked!\u001b[39;00m\n\u001b[1;32m----> 3\u001b[0m result \u001b[38;5;241m=\u001b[39m \u001b[43msolution\u001b[49m\u001b[38;5;241;43m.\u001b[39;49m\u001b[43msearchRange\u001b[49m([\u001b[38;5;241m5\u001b[39m,\u001b[38;5;241m7\u001b[39m,\u001b[38;5;241m7\u001b[39m,\u001b[38;5;241m8\u001b[39m,\u001b[38;5;241m8\u001b[39m,\u001b[38;5;241m10\u001b[39m],\u001b[38;5;241m8\u001b[39m)\n\u001b[0;32m      4\u001b[0m \u001b[38;5;66;03m# worked!\u001b[39;00m\n",
      "\u001b[1;31mAttributeError\u001b[0m: 'Solution' object has no attribute 'searchRange'"
     ]
    }
   ],
   "source": [
    "# Draw Inference, reverse first M - N element\n",
    "# worked!\n",
    "result = solution.searchRange([5,7,7,8,8,10],8)\n",
    "# worked!"
   ]
  },
  {
   "cell_type": "code",
   "execution_count": 6,
   "id": "26276921-189a-4cc5-9470-d65927ccd488",
   "metadata": {},
   "outputs": [
    {
     "name": "stdout",
     "output_type": "stream",
     "text": [
      "[3, 4]\n"
     ]
    }
   ],
   "source": [
    "# Display result\n",
    "print(result)\n"
   ]
  },
  {
   "cell_type": "code",
   "execution_count": 171,
   "id": "84742476-3266-486c-9a57-8d87cd3de927",
   "metadata": {},
   "outputs": [],
   "source": []
  },
  {
   "cell_type": "code",
   "execution_count": null,
   "id": "80fd8d55-6413-4c05-afb2-c92d8f76f7dc",
   "metadata": {},
   "outputs": [],
   "source": []
  }
 ],
 "metadata": {
  "kernelspec": {
   "display_name": "Python 3 (ipykernel)",
   "language": "python",
   "name": "python3"
  },
  "language_info": {
   "codemirror_mode": {
    "name": "ipython",
    "version": 3
   },
   "file_extension": ".py",
   "mimetype": "text/x-python",
   "name": "python",
   "nbconvert_exporter": "python",
   "pygments_lexer": "ipython3",
   "version": "3.12.2"
  }
 },
 "nbformat": 4,
 "nbformat_minor": 5
}
